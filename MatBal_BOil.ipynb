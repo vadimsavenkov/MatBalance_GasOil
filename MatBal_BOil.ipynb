{
 "cells": [
  {
   "cell_type": "code",
   "execution_count": 8,
   "id": "968ac058",
   "metadata": {},
   "outputs": [],
   "source": [
    "import pandas as pd"
   ]
  },
  {
   "cell_type": "markdown",
   "id": "2437e237",
   "metadata": {},
   "source": [
    "# Material Balance in a Wet-Gas Reservoir"
   ]
  },
  {
   "cell_type": "code",
   "execution_count": 9,
   "id": "cc8e656e",
   "metadata": {},
   "outputs": [],
   "source": [
    "#A black-oil reservoir is depleted from an initial pressure of 2000 psi to 1000 psi.\n",
    "#The reservoir produced 40.5 MMSTB of oil and 58 Bscf of gas.  \n",
    "#The oil HCPV = 307.57 MMBBL is provided. The fluid's bubble-point pressure is 1680 psi. \n",
    "\n",
    "#Using the black oil PVT table calculate Initial OOIP and OGIP values. What is the current oil recovery factor? \n"
   ]
  },
  {
   "cell_type": "code",
   "execution_count": 13,
   "id": "813dea00",
   "metadata": {},
   "outputs": [
    {
     "data": {
      "text/html": [
       "<div>\n",
       "<style scoped>\n",
       "    .dataframe tbody tr th:only-of-type {\n",
       "        vertical-align: middle;\n",
       "    }\n",
       "\n",
       "    .dataframe tbody tr th {\n",
       "        vertical-align: top;\n",
       "    }\n",
       "\n",
       "    .dataframe thead th {\n",
       "        text-align: right;\n",
       "    }\n",
       "</style>\n",
       "<table border=\"1\" class=\"dataframe\">\n",
       "  <thead>\n",
       "    <tr style=\"text-align: right;\">\n",
       "      <th></th>\n",
       "      <th>Pressure, psi</th>\n",
       "      <th>Bo, bbl/stb</th>\n",
       "      <th>Rs, scf/stb</th>\n",
       "    </tr>\n",
       "  </thead>\n",
       "  <tbody>\n",
       "    <tr>\n",
       "      <th>0</th>\n",
       "      <td>2000</td>\n",
       "      <td>1.47</td>\n",
       "      <td>838.5</td>\n",
       "    </tr>\n",
       "    <tr>\n",
       "      <th>1</th>\n",
       "      <td>1800</td>\n",
       "      <td>1.47</td>\n",
       "      <td>838.5</td>\n",
       "    </tr>\n",
       "    <tr>\n",
       "      <th>2</th>\n",
       "      <td>1680</td>\n",
       "      <td>1.48</td>\n",
       "      <td>838.5</td>\n",
       "    </tr>\n",
       "    <tr>\n",
       "      <th>3</th>\n",
       "      <td>1642</td>\n",
       "      <td>1.46</td>\n",
       "      <td>816.1</td>\n",
       "    </tr>\n",
       "    <tr>\n",
       "      <th>4</th>\n",
       "      <td>1600</td>\n",
       "      <td>1.45</td>\n",
       "      <td>798.4</td>\n",
       "    </tr>\n",
       "    <tr>\n",
       "      <th>5</th>\n",
       "      <td>1401</td>\n",
       "      <td>1.41</td>\n",
       "      <td>713.4</td>\n",
       "    </tr>\n",
       "    <tr>\n",
       "      <th>6</th>\n",
       "      <td>1201</td>\n",
       "      <td>1.36</td>\n",
       "      <td>621.0</td>\n",
       "    </tr>\n",
       "    <tr>\n",
       "      <th>7</th>\n",
       "      <td>1000</td>\n",
       "      <td>1.32</td>\n",
       "      <td>548.0</td>\n",
       "    </tr>\n",
       "    <tr>\n",
       "      <th>8</th>\n",
       "      <td>800</td>\n",
       "      <td>1.28</td>\n",
       "      <td>464.0</td>\n",
       "    </tr>\n",
       "    <tr>\n",
       "      <th>9</th>\n",
       "      <td>600</td>\n",
       "      <td>1.24</td>\n",
       "      <td>383.9</td>\n",
       "    </tr>\n",
       "    <tr>\n",
       "      <th>10</th>\n",
       "      <td>400</td>\n",
       "      <td>1.19</td>\n",
       "      <td>297.4</td>\n",
       "    </tr>\n",
       "    <tr>\n",
       "      <th>11</th>\n",
       "      <td>200</td>\n",
       "      <td>1.14</td>\n",
       "      <td>190.9</td>\n",
       "    </tr>\n",
       "  </tbody>\n",
       "</table>\n",
       "</div>"
      ],
      "text/plain": [
       "    Pressure, psi  Bo, bbl/stb  Rs, scf/stb\n",
       "0            2000         1.47        838.5\n",
       "1            1800         1.47        838.5\n",
       "2            1680         1.48        838.5\n",
       "3            1642         1.46        816.1\n",
       "4            1600         1.45        798.4\n",
       "5            1401         1.41        713.4\n",
       "6            1201         1.36        621.0\n",
       "7            1000         1.32        548.0\n",
       "8             800         1.28        464.0\n",
       "9             600         1.24        383.9\n",
       "10            400         1.19        297.4\n",
       "11            200         1.14        190.9"
      ]
     },
     "execution_count": 13,
     "metadata": {},
     "output_type": "execute_result"
    }
   ],
   "source": [
    "pvt_black_oil = {'Pressure, psi': [2000, 1800, 1680, 1642, 1600, 1401, 1201,\n",
    "                         1000, 800, 600, 400, 200], \n",
    "                'Bo, bbl/stb': [1.47, 1.47, 1.48, 1.46, 1.45, 1.41, 1.36,\n",
    "                         1.32, 1.28, 1.24, 1.19, 1.14],\n",
    "                'Rs, scf/stb': [838.5, 838.5, 838.5, 816.1, 798.4, 713.4, 621.0,\n",
    "                         548.0, 464.0, 383.9, 297.4, 190.9]}\n",
    "df_pvt_black_oil = pd.DataFrame(data=pvt_black_oil)\n",
    "df_pvt_black_oil"
   ]
  },
  {
   "cell_type": "code",
   "execution_count": 14,
   "id": "96a2a1a7",
   "metadata": {},
   "outputs": [],
   "source": [
    "# Calculate Original Oil In Place"
   ]
  },
  {
   "cell_type": "code",
   "execution_count": 16,
   "id": "82ae4308",
   "metadata": {},
   "outputs": [
    {
     "name": "stdout",
     "output_type": "stream",
     "text": [
      "OOIP = 209.66 MMSTB\n"
     ]
    }
   ],
   "source": [
    "def Original_Oil_In_Place (HCPV, oil_FVF):\n",
    "    OOIP = HCPV / oil_FVF \n",
    "    return OOIP\n",
    "print(\"OOIP =\", round(Original_Oil_In_Place (307.57, 1.467),2), \"MMSTB\")"
   ]
  },
  {
   "cell_type": "code",
   "execution_count": null,
   "id": "061f567f",
   "metadata": {},
   "outputs": [],
   "source": [
    "# Calculate Original Gas In Place"
   ]
  },
  {
   "cell_type": "code",
   "execution_count": 18,
   "id": "3142ccc2",
   "metadata": {},
   "outputs": [
    {
     "name": "stdout",
     "output_type": "stream",
     "text": [
      "OGIP = 175799.91 MMCF\n"
     ]
    }
   ],
   "source": [
    "def Original_Gas_In_Place (OOIP, GOR_init):\n",
    "    OGIP = OOIP * GOR_init \n",
    "    return OGIP\n",
    "print(\"OGIP =\", round(Original_Gas_In_Place (209.66, 838.5),2), \"MMCF\")"
   ]
  },
  {
   "cell_type": "code",
   "execution_count": 25,
   "id": "605ac6e3",
   "metadata": {},
   "outputs": [
    {
     "name": "stdout",
     "output_type": "stream",
     "text": [
      "Oil RF = 19.32 %\n"
     ]
    }
   ],
   "source": [
    "def Oil_Recovery_Factor (oil_cum, OOIP):\n",
    "    ORF = oil_cum / OOIP * 100 \n",
    "    return ORF\n",
    "print(\"Oil RF =\", round(Oil_Recovery_Factor(40.5, 209.66),2), \"%\")"
   ]
  },
  {
   "cell_type": "code",
   "execution_count": null,
   "id": "cc3000d0",
   "metadata": {},
   "outputs": [],
   "source": []
  }
 ],
 "metadata": {
  "kernelspec": {
   "display_name": "Python 3 (ipykernel)",
   "language": "python",
   "name": "python3"
  },
  "language_info": {
   "codemirror_mode": {
    "name": "ipython",
    "version": 3
   },
   "file_extension": ".py",
   "mimetype": "text/x-python",
   "name": "python",
   "nbconvert_exporter": "python",
   "pygments_lexer": "ipython3",
   "version": "3.9.7"
  }
 },
 "nbformat": 4,
 "nbformat_minor": 5
}
