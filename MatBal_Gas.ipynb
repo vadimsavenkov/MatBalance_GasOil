{
 "cells": [
  {
   "cell_type": "code",
   "execution_count": 28,
   "id": "968ac058",
   "metadata": {},
   "outputs": [],
   "source": [
    "import pandas as pd\n",
    "import numpy as np\n",
    "from math import e"
   ]
  },
  {
   "cell_type": "markdown",
   "id": "2437e237",
   "metadata": {},
   "source": [
    "# Material Balance in a Wet-Gas Reservoir"
   ]
  },
  {
   "cell_type": "code",
   "execution_count": 29,
   "id": "cc8e656e",
   "metadata": {},
   "outputs": [],
   "source": [
    "#Newly discovered gas reservoir has the following data available:\n",
    "#GWC = 9700 ft\n",
    "#Centroid depth = 9537 ft\n",
    "#Net bulk volume (V) = 17.76 Bcf\n",
    "#φ = 0.19\n",
    "#Swc = 0 20\n",
    "#γg = 0.85"
   ]
  },
  {
   "cell_type": "code",
   "execution_count": 30,
   "id": "3b437861",
   "metadata": {},
   "outputs": [],
   "source": [
    "#A gas sample was collected during a brief production test \n",
    "#The reservoir pressure was not recorded because of tool failure. \n",
    "#It is known from the analogous field nearby that the water\n",
    "#pressure regime is defined as pw = 0.441D + 31 psia\n",
    "#and that the temperature gradient is 1.258°F/100 ft at surface temperature 80° F.\n",
    "#Estimate Pressure Gradient and the GIIP."
   ]
  },
  {
   "cell_type": "code",
   "execution_count": 31,
   "id": "1095bc6d",
   "metadata": {},
   "outputs": [
    {
     "name": "stdout",
     "output_type": "stream",
     "text": [
      "Pwat = 4308.7 psia\n"
     ]
    }
   ],
   "source": [
    "# Calculate the water pressure at GWC\n",
    "def press_wat (depth_gwc):\n",
    "    Pgwc = 0.441 * depth_gwc + 31 \n",
    "    return Pgwc\n",
    "print('Pwat =', round(press_wat(9700),3), \"psia\")"
   ]
  },
  {
   "cell_type": "code",
   "execution_count": 32,
   "id": "36d79d61",
   "metadata": {},
   "outputs": [
    {
     "name": "stdout",
     "output_type": "stream",
     "text": [
      "Tabs = 662.0 deg.rank\n"
     ]
    }
   ],
   "source": [
    "# Calculate the absolute temperature at GWC\n",
    "def temperature (depth_gwc, temp_rank):\n",
    "    Tabs = (1.258 * depth_gwc/100) + 80 + temp_rank \n",
    "    return Tabs\n",
    "print('Tabs =', round(temperature(9700, 460),1), \"deg.rank\")\n",
    "#Based on γg = 0.85 the isothermal Z−factor plot Zgwc = 0.888"
   ]
  },
  {
   "cell_type": "code",
   "execution_count": 33,
   "id": "fc795f20",
   "metadata": {},
   "outputs": [],
   "source": [
    "#The determination of the Z−factor as a function of pressure \n",
    "#and temperature facilitates the use of the simple equation: pV = ZnRT\n",
    "#For the field units at standard conditions: E = 35.37 * P/ZT"
   ]
  },
  {
   "cell_type": "code",
   "execution_count": 34,
   "id": "4d9aa4bc",
   "metadata": {},
   "outputs": [
    {
     "name": "stdout",
     "output_type": "stream",
     "text": [
      "Egwc = 259.24\n"
     ]
    }
   ],
   "source": [
    "def expansion (Pgwc, Tgwc, Zgwc):\n",
    "    Egwc = (35.37 * Pgwc) /  (Tgwc * Zgwc) \n",
    "    return Egwc\n",
    "print('Egwc =', round(expansion(4308.7, 662.0, 0.888),2))"
   ]
  },
  {
   "cell_type": "code",
   "execution_count": 35,
   "id": "9b87020b",
   "metadata": {},
   "outputs": [
    {
     "name": "stdout",
     "output_type": "stream",
     "text": [
      "Pgrad = 16.81 lb/cu.ft\n"
     ]
    }
   ],
   "source": [
    "#ρsc = 0.0763γg (lbs / cu.ft) - the gas density at standard conditions\n",
    "def press_grad (gas_den, exp_fact):\n",
    "    Pgrad = 0.0763 * gas_den  * exp_fact \n",
    "    return Pgrad\n",
    "print('Pgrad =', round(press_grad(0.85, 259.24),2), \"lb/cu.ft\")"
   ]
  },
  {
   "cell_type": "code",
   "execution_count": 36,
   "id": "1f8cec82",
   "metadata": {},
   "outputs": [
    {
     "name": "stdout",
     "output_type": "stream",
     "text": [
      "Pgrad = 0.117 psi/ft\n"
     ]
    }
   ],
   "source": [
    "Pgrad = 16.81/144\n",
    "print('Pgrad =', round(Pgrad,3), \"psi/ft\")"
   ]
  },
  {
   "cell_type": "code",
   "execution_count": 37,
   "id": "7675226d",
   "metadata": {},
   "outputs": [
    {
     "name": "stdout",
     "output_type": "stream",
     "text": [
      "GIIP = 699.82 Bcf\n"
     ]
    }
   ],
   "source": [
    "#GIIP = GRV * φ * (1−Swc) * Egwc\n",
    "def Gas_Initial_In_Place (net_vol, poro, wat_sat, gas_exp):\n",
    "    GIIP = net_vol * poro * (1 - wat_sat) * gas_exp \n",
    "    return GIIP\n",
    "print(\"GIIP =\", round(Gas_Initial_In_Place (17.76, 0.19, 0.2, 259.24),2), \"Bcf\")\n"
   ]
  },
  {
   "cell_type": "code",
   "execution_count": 63,
   "id": "7fc4198d",
   "metadata": {},
   "outputs": [
    {
     "name": "stdout",
     "output_type": "stream",
     "text": [
      "Plateau Time = 10.41 Years\n"
     ]
    }
   ],
   "source": [
    "#The project produced around 48O Bcf including 50 Bcf during 2.5 year ramp-up and the maintained plateau with the average rate of 100 MMscf/day\n",
    "#Calculate the time this rate was maintained?\n",
    "\n",
    "def plateau_time (prd_tot, prd_ramp, gas_rate):\n",
    "    Time = ((prd_tot - prd_ramp)*1000) / (gas_rate * 365) \n",
    "    return Time\n",
    "print(\"Plateau Time =\", round(plateau_time (430, 50, 100), 2), \"Years\")\n",
    "\n"
   ]
  },
  {
   "cell_type": "code",
   "execution_count": 60,
   "id": "a42aee53",
   "metadata": {},
   "outputs": [
    {
     "name": "stdout",
     "output_type": "stream",
     "text": [
      "Decline Time = 8.05 Years\n"
     ]
    }
   ],
   "source": [
    "#Q = Qo * e(−bt) or t = 1/b * ln(Qo/Q)\n",
    "#It was assumed from analogous project that the minimum decline rate is expected to be 20 %\n",
    "#Qo is the rate at t = 0, i.e. 100 MMscf/d, and b is the exponential decline factor of 20 %\n",
    "\n",
    "#What is the decline time?\n",
    "#What is the gas recovery from the start of decline to abandonment rate?\n",
    "def decline_time (rate_init, rate_end):\n",
    "    Time_Decline = (1 / 0.20) * np.log(rate_init/rate_end) \n",
    "    return Time_Decline\n",
    "print(\"Decline Time =\", round(decline_time (100, 20), 2), \"Years\")\n"
   ]
  },
  {
   "cell_type": "code",
   "execution_count": 64,
   "id": "abd8f8e3",
   "metadata": {},
   "outputs": [
    {
     "name": "stdout",
     "output_type": "stream",
     "text": [
      "Decline Recovery = 146.02 Bcf\n"
     ]
    }
   ],
   "source": [
    "#Q = (Qo * (1 - e(−bt))) / b\n",
    "def decline_recovery (rate_plateau, decline_time):\n",
    "    Recovery_Decline = (rate_plateau * 365)/(0.2*1000)  * (1 - np.exp(-0.2*decline_time))\n",
    "    return Recovery_Decline\n",
    "print(\"Decline Recovery =\", round(decline_recovery (100, 8.05), 2), \"Bcf\")\n",
    "\n"
   ]
  },
  {
   "cell_type": "code",
   "execution_count": 65,
   "id": "a7a8f63a",
   "metadata": {},
   "outputs": [
    {
     "name": "stdout",
     "output_type": "stream",
     "text": [
      "Gp = 626 Bcf\n"
     ]
    }
   ],
   "source": [
    "def ultimate_recovery (recovery_ramp, recovery_plateau, recovery_decline):\n",
    "    Recovery_Total = recovery_ramp + recovery_plateau + recovery_decline\n",
    "    return Recovery_Total\n",
    "print(\"Gp =\", round(ultimate_recovery (50, 430, 146), 2), \"Bcf\")\n"
   ]
  },
  {
   "cell_type": "code",
   "execution_count": 66,
   "id": "73dc3394",
   "metadata": {},
   "outputs": [
    {
     "name": "stdout",
     "output_type": "stream",
     "text": [
      "RF = 89.45 %\n"
     ]
    }
   ],
   "source": [
    "Recovery_Factor = (ultimate_recovery (50, 430, 146)/Gas_Initial_In_Place (17.76, 0.19, 0.2, 259.24)) * 100\n",
    "print(\"RF =\", round(Recovery_Factor, 2), \"%\")"
   ]
  },
  {
   "cell_type": "code",
   "execution_count": 69,
   "id": "cc3000d0",
   "metadata": {},
   "outputs": [
    {
     "name": "stdout",
     "output_type": "stream",
     "text": [
      "Project_Timeline = 21.0 Years\n"
     ]
    }
   ],
   "source": [
    "#Project Timeline\n",
    "\n",
    "def project_timeline (time_ramp, time_plateau, time_decline):\n",
    "    Project_Time = time_ramp + time_plateau + time_decline\n",
    "    return Project_Time\n",
    "print(\"Project_Timeline =\", round(project_timeline (2.5, 10.41, 8.05), 1), \"Years\")\n",
    "\n"
   ]
  },
  {
   "cell_type": "code",
   "execution_count": null,
   "id": "730a1ed8",
   "metadata": {},
   "outputs": [],
   "source": [
    "#This simple exercise covers the spectrum of reservoir engineering activity,\n",
    "namely, estimating the hydrocarbons in place, calculating a recovery factor and\n",
    "attaching a time scale to the recovery. "
   ]
  }
 ],
 "metadata": {
  "kernelspec": {
   "display_name": "Python 3 (ipykernel)",
   "language": "python",
   "name": "python3"
  },
  "language_info": {
   "codemirror_mode": {
    "name": "ipython",
    "version": 3
   },
   "file_extension": ".py",
   "mimetype": "text/x-python",
   "name": "python",
   "nbconvert_exporter": "python",
   "pygments_lexer": "ipython3",
   "version": "3.9.7"
  }
 },
 "nbformat": 4,
 "nbformat_minor": 5
}
