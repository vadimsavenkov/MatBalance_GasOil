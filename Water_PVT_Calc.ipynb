{
 "cells": [
  {
   "cell_type": "code",
   "execution_count": 1,
   "id": "f63a0adc",
   "metadata": {},
   "outputs": [],
   "source": [
    "import numpy as np"
   ]
  },
  {
   "cell_type": "code",
   "execution_count": 2,
   "id": "0575b195",
   "metadata": {},
   "outputs": [],
   "source": [
    "def water_fvf(temp, p):\n",
    "  \"Water FVF (Bw)\"\n",
    "  # temp in Fahrenheit\n",
    "  # p pressure in psia\n",
    "  Vwp = (-1.95301E-9 * p * temp) - (1.72834E-13 * (p**2) * temp) - (3.588922E-7 * p) - (2.25341E-10 * p**2)\n",
    "  Vwt = (-1.001E-2) + (1.33391E-4 * temp) + (5.50654E-7 * temp**2)\n",
    "  Bw = (1 + Vwt) * (1 + Vwp)\n",
    "  return(Bw)\n",
    "\n",
    "def water_pbubble(temp):\n",
    "  \"\"\"\n",
    "  Calculate Vapour (Bubble Point) Pressure of Water\n",
    "  For range: 32 < T(°F) < 705.2 or 0 < T(°C) < 374\n",
    "  Antoine (1888)\n",
    "  \"\"\"\n",
    "  temp = (temp - 32) * (5 / 9) # convert Fahrenheit to Celsius\n",
    "  if temp >= 0 and temp <= 100:\n",
    "    # from melting point to boiling point\n",
    "    a = 8.07131; b = 1730.63; c = 233.426\n",
    "  if temp > 100 and temp <= 374:\n",
    "    # from boiling point to critical point\n",
    "    a = 8.14019; b = 1810.94; c = 244.485\n",
    "\n",
    "  pbubble = 10**(a - (b / (c + temp)))\n",
    "  pbubble = pbubble / 51.715 # convert mmHg to psi\n",
    "  return pbubble\n",
    "\n",
    "def water_compressibility(temp, p, s, Bw):\n",
    "  \"\"\"\n",
    "  Calculate Water Isothermal Compressibility\n",
    "  * Below BB point, for range: 1,000 < p (psia) < 20,000;\n",
    "    0 < s (wt%) < 20; 200 < temp (°F) < 270\n",
    "    Osif (1988)\n",
    "  * Above BB point, for range: unspecified\n",
    "    McCain (1989)\n",
    "  \"\"\"\n",
    "#   import gas_fvf, water_pbubble\n",
    "  \n",
    "  # calculate bubble-point pressure\n",
    "  pbubble = water_pbubble(temp)\n",
    "\n",
    "  # calculate compressibility\n",
    "  if p > pbubble:\n",
    "    cw = (1 / ((7.033 * p) + (0.5415 * s) - (537 * temp) + (403300)))\n",
    "  if p < pbubble:\n",
    "    first_term = - (1 / ((7.033 * p) + (0.5415 * s) - (537 * temp) + (403300)))\n",
    "\n",
    "    # calculate Bg @ sg=0.63\n",
    "    Bg = gas_fvf(0.63, temp, p) / 5.615 # convert res ft3/SCF to RB/SCF\n",
    "\n",
    "    B = 1.01021E-2 - (7.44241E-5 * temp) + (3.05553E-7 * (temp**2)) - (2.94883E-10 * (temp**3))\n",
    "    C = -1E-7 * (9.02505 - (0.13023 * temp) + (8.53425E-4 * (temp**2)) - (2.34122E-6 * (temp**3)) - (2.37049E-9 * (temp**4)))\n",
    "    second_term = (Bg / Bw) * (B + 2 * C * p)\n",
    "    cw = - first_term + second_term\n",
    "  return cw\n",
    "\n",
    "def water_mu(temp, p, s):\n",
    "  \"\"\"\n",
    "  Calculate Water Viscosity\n",
    "  p (psia) < 15,000; 100 < temp (°F) < 400; 0 < s (wt%) < 26 (error 4-7%)  \n",
    "  McCain (1989) \n",
    "  \"\"\"\n",
    "  # calculate water viscosity at reservoir temperature, but atmospheric pressure\n",
    "  D = 109.574 - (8.40564 * s) + (0.313314 * (s**2)) + (8.72213E-3 * (s**3))\n",
    "  B = -1.12166 + (2.63951E-2 * s) - (6.79461E-4 * (s**2)) - (5.47119E-5 * (s**3)) + (1.55586E-6 * (s**4))\n",
    "  mu_w_atm = D * (temp**B)\n",
    "\n",
    "  # adjust to reservoir pressure\n",
    "  mu_w = (0.9994 + (4.0285E-5 * p) + (3.1062E-9 * (p**2))) * mu_w_atm\n",
    "\n",
    "  return mu_w"
   ]
  },
  {
   "cell_type": "code",
   "execution_count": 3,
   "id": "6808cd78",
   "metadata": {},
   "outputs": [],
   "source": [
    "pressure = 3000 # psi\n",
    "temp = 190 # Fahrenheit\n",
    "s = 5 # salinity, wt%"
   ]
  },
  {
   "cell_type": "code",
   "execution_count": 4,
   "id": "e9e8104b",
   "metadata": {},
   "outputs": [],
   "source": [
    "# Water FVF \n",
    "Bw = water_fvf(temp, pressure)\n",
    "# Water vapor (bubble-point) pressure \n",
    "pbubble = water_pbubble(temp)\n",
    "# Water isothermal compressibility \n",
    "cw = water_compressibility(temp, pressure, s, Bw)\n",
    "# Water viscosity \n",
    "mu_w = water_mu(temp, pressure, s)"
   ]
  },
  {
   "cell_type": "code",
   "execution_count": 5,
   "id": "8fabe5d4",
   "metadata": {},
   "outputs": [
    {
     "name": "stdout",
     "output_type": "stream",
     "text": [
      "Your Input:\n",
      "Pressure                     : 3000 psia\n",
      "Temperature                  : 190 °F\n",
      "Salinity                     : 0.05 \n",
      "\n",
      "PVT Output:\n",
      "FVF                          : 1.0305404582765743 RB/STB\n",
      "Bubble-Point Pressure        : 9.327025034766681 psia\n",
      "Isothermal Compressibility   : 3.10200919229241 microsip\n",
      "Viscosity                    : 0.4326959802568671 cp\n"
     ]
    }
   ],
   "source": [
    "print('Your Input:')\n",
    "print('Pressure                     : {} psia'.format(pressure))\n",
    "print('Temperature                  : {} °F'.format(temp))\n",
    "print('Salinity                     : {} \\n'.format(s / 100))\n",
    "\n",
    "\n",
    "print('PVT Output:')\n",
    "print('FVF                          : {} RB/STB'.format(Bw))\n",
    "print('Bubble-Point Pressure        : {} psia'.format(pbubble))\n",
    "print('Isothermal Compressibility   : {} microsip'.format(cw * 1E+6))\n",
    "print('Viscosity                    : {} cp'.format(mu_w))"
   ]
  }
 ],
 "metadata": {
  "kernelspec": {
   "display_name": "Python 3 (ipykernel)",
   "language": "python",
   "name": "python3"
  },
  "language_info": {
   "codemirror_mode": {
    "name": "ipython",
    "version": 3
   },
   "file_extension": ".py",
   "mimetype": "text/x-python",
   "name": "python",
   "nbconvert_exporter": "python",
   "pygments_lexer": "ipython3",
   "version": "3.9.7"
  }
 },
 "nbformat": 4,
 "nbformat_minor": 5
}
