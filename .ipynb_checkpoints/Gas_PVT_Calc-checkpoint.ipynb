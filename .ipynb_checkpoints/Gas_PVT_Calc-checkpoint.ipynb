{
 "cells": [
  {
   "cell_type": "code",
<<<<<<< HEAD
   "execution_count": 37,
=======
   "execution_count": 3,
>>>>>>> e2406e40881a3b1c2b6ca5664e2ef7398455e0be
   "id": "b094a9ec",
   "metadata": {},
   "outputs": [],
   "source": [
    "import numpy as np\n",
    "from scipy.optimize import fsolve # non-linear solver"
   ]
  },
  {
   "cell_type": "code",
<<<<<<< HEAD
   "execution_count": 38,
=======
   "execution_count": 4,
>>>>>>> e2406e40881a3b1c2b6ca5664e2ef7398455e0be
   "id": "afc7aa7f",
   "metadata": {},
   "outputs": [],
   "source": [
    "\"\"\"\n",
    "GAS PVT CALCULATIONS\n",
    "\"\"\"\n",
    "\n",
    "def gas_pseudoprops(temp, pressure, sg, x_h2s, x_co2):\n",
    "  \"\"\"\n",
    "  Calculate Gas Pseudo-critical and Pseudo-reduced Pressure and Temperature\n",
    "  * Pseudo-critical properties\n",
    "    For range: 0.57 < sg < 1.68\n",
    "    (Sutton, 1985)\n",
    "  * Pseudo-reduced properties\n",
    "    For range: x_h2s (mol%) < 0.738; x_co2 (mol%) < 0.544; 154 < p (psia) < 7026; 40 < temp (°F) < 300 (error 0.97%)\n",
    "    (Wichert and Aziz, 1972)\n",
    "  \"\"\"\n",
    "  \n",
    "  if sg > 0.57 and sg < 1.68 and x_h2s < 0.738 and x_co2 < 0.544 and pressure > 154 and pressure < 7026 and temp > 40 and temp < 300:\n",
    "    temp = temp + 459.67 # convert to Rankine\n",
    "\n",
    "    # calculate pseudocritical properties (Sutton, valid for 0.57<sg<1.68)\n",
    "    P_pc = 756.8 - (131.07 * sg) - (3.6 * sg**2)\n",
    "    T_pc = 169.2 + (349.50 * sg) - (74 * sg**2) # in Rankine\n",
    "\n",
    "    # calculate adjustment to pseudocritical properties for sour gas (Wiechert-Aziz, valid for x_co2<0.544 and x_h2s<0.738)\n",
    "    e = (120 * (((x_h2s + x_co2)**0.9) - ((x_h2s + x_co2)**1.6))) + (15 * (x_h2s**0.5 - x_h2s**4))\n",
    "    T_pc = T_pc - e # corrected T_pc\n",
    "    P_pc = (P_pc * T_pc) / (T_pc - x_h2s * e * (1-x_h2s))\n",
    "\n",
    "    # calculate pseudoreduced properties\n",
    "    P_pr = pressure / P_pc\n",
    "    T_pr = temp / T_pc\n",
    "  \n",
    "  else:\n",
    "    P_pc, T_pc, P_pr, T_pr = np.nan, np.nan, np.nan, np.nan\n",
    "\n",
    "  return(P_pc, T_pc, P_pr, T_pr)\n",
    "\n",
    "def gas_zfactor(T_pr, P_pr):\n",
    "  \"\"\"\n",
    "  Calculate Gas Compressibility Factor\n",
    "  For range: 0.2 < P_pr < 30; 1 < T_pr < 3 (error 0.486%)\n",
    "  (Dranchuk and Aboukassem, 1975)\n",
    "  \"\"\"\n",
    "  # T_pr : calculated pseudoreduced temperature\n",
    "  # P_pr : calculated pseudoreduced pressure   \n",
    " \n",
    "  if T_pr > 1 and T_pr < 3 and P_pr > 0.2 and P_pr < 30:\n",
    "    a1 = 0.3265; a2 = -1.0700; a3 = -0.5339; a4 = 0.01569; a5 = -0.05165; a6 = 0.5475\n",
    "    a7 = -0.7361; a8 = 0.1844; a9 = 0.1056; a10 = 0.6134; a11 = 0.7210\n",
    "\n",
    "    def f(y):\n",
    "      rho_pr, z = y\n",
    "      c1 = a1 + (a2/T_pr) + (a3/(T_pr**3))+ (a4/(T_pr**4))+ (a5/(T_pr**5))\n",
    "      c2 = a6 + (a7/T_pr) + (a8/(T_pr**2))\n",
    "      c3 = a9*((a7/T_pr) + (a8/(T_pr**2)))\n",
    "      c4 = (a10)*(1+(a11*(rho_pr**2)))*((rho_pr**2)/(T_pr**3))*(np.exp(-a11*(rho_pr**2)))\n",
    "\n",
    "      f1 = z + (c3*(rho_pr**5)) - (c2*(rho_pr**2)) - (c1*(rho_pr**1)) - c4 - 1\n",
    "      f2 = rho_pr - ((0.27 * P_pr) / (z * T_pr))\n",
    "      return[f1, f2]\n",
    "\n",
    "    pseudo_rho, z_factor = fsolve(f, [1, 1]) # initial guess\n",
    "  \n",
    "  else:\n",
    "    pseudo_rho, z_factor = np.nan, np.nan\n",
    "\n",
    "  return(pseudo_rho, z_factor) # result is density, z-factor\n",
    "\n",
    "def gas_density(temp, pressure, sg, z):\n",
    "  \"\"\"\n",
    "  Calculate Gas Density\n",
    "  For range: this is not a correlation, so valid for infinite intervals\n",
    "  \"\"\"  \n",
    "  temp = temp + 459.67\n",
    "  R = 10.732 # gas constant in (ft3*psi)/(lb-mol*R) \n",
    "  rhogas = (28.97 * sg * pressure) / (z * R * temp)\n",
    "  return rhogas  \n",
    "\n",
    "def gas_fvf(z, temp, pressure):\n",
    "  \"\"\"\n",
    "  Calculate Gas FVF\n",
    "  For range: this is not a correlation, so valid for infinite intervals\n",
    "  \"\"\"\n",
    "  temp = temp + 459.67\n",
    "  Bg = 0.0282793 * z * temp / pressure \n",
    "  return(Bg)\n",
    "\n",
    "def gas_fvf2(unit='unit1', z=0.8, temp=186, pressure=2000):\n",
    "  \"\"\"\n",
    "  Gas FVF calculated in other units\n",
    "  unit: choice of units (unit1: RB/scf, unit2: res m3/std m3)\n",
    "  for unit1, inputs temp in Rankine (Fahrenheit + 460), pressure in psia or psig\n",
    "  for unit2, inputs temp in Kelvin, pressure in psia or psig\n",
    "  \"\"\"\n",
    "  if unit == 'unit1':\n",
    "    return(0.00503676 * z * temp / pressure) \n",
    "  if unit == 'unit2':\n",
    "    return(0.350958 * z * temp / pressure)\n",
    "\n",
    "def gas_mu(temp, rhogas, sg):\n",
    "  \"\"\"\n",
    "  Calculate Gas Viscosity \n",
    "  For gas with CO2 and N2 composition\n",
    "  For range: 100 < temp (°F) < 340; 0.9 < x_CO2 (mol%) < 3.2; x_N2 (mol%) < 4.8 (std 2.7-9.0%)\n",
    "  (Lee et al, 1996)\n",
    "  \"\"\"\n",
    "\n",
    "  if temp > 100 and temp < 340:\n",
    "    temp = temp + 459.67\n",
    "    Mg = 28.97 * sg\n",
    "    rhogas_lee = rhogas * 0.0160185 # lbm/ft3 converted to gas density unit of Lee et al (g/cm3)\n",
    "    K = ((0.00094 + 2E-06)*(temp**1.5)) / (209 + 19*Mg + temp)\n",
    "    x = 3.5 + (986 / temp) + (0.01 * Mg)\n",
    "    y = 2.4 - 0.2*x  \n",
    "    viscogas = K * np.exp(x * (rhogas_lee**y))\n",
    "  \n",
    "  else:\n",
    "    viscogas = np.nan\n",
    "  return viscogas\n",
    "\n",
    "def gas_compressibility(T_pr, P_pr, rho_pr, z, P_pc):\n",
    "  \n",
    "  \"\"\"\n",
    "  Calculate Gas Isothermal Compressibility for unspecified range\n",
    "  (Trube, 1957; Mattar, 1975)\n",
    "  \"\"\"\n",
    "\n",
    "  a1 = 0.3265; a2 = -1.0700; a3 = -0.5339; a4 = 0.01569; a5 = -0.05165; a6 = 0.5475\n",
    "  a7 = -0.7361; a8 = 0.1844; a9 = 0.1056; a10 = 0.6134; a11 = 0.7210\n",
    "\n",
    "  do = ((a1 + (a2/T_pr) + (a3/T_pr**3) +(a4/T_pr**4) + (a5/T_pr**5)) * rho_pr) + \\\n",
    "      (2 * ((a6 + (a7/T_pr) + (a8/T_pr**2))) * rho_pr**2) - \\\n",
    "      (5 * a9 * (((a7/T_pr) + (a8/T_pr**2))) * rho_pr**4) + (1 + (a11 * rho_pr**2) - (a11 * rho_pr**2)**2) \\\n",
    "      * ((2 * a10 * rho_pr / T_pr**3)*np.exp(-a11 * rho_pr**2))\n",
    "\n",
    "  c_pr_analytical = (1 / P_pr) - ((0.27 / (z**2 * T_pr)) * (do / (1 + ((rho_pr / z) * do))))\n",
    "  cgas_analytical = c_pr_analytical / P_pc\n",
    "  return(cgas_analytical)    "
   ]
  },
  {
   "cell_type": "code",
<<<<<<< HEAD
   "execution_count": 87,
=======
   "execution_count": 5,
>>>>>>> e2406e40881a3b1c2b6ca5664e2ef7398455e0be
   "id": "d9110637",
   "metadata": {},
   "outputs": [],
   "source": [
<<<<<<< HEAD
    "pressure = 2010 # psia\n",
    "temp = 75 # Fahrenheit\n",
    "sg = 0.7 # specific gravity\n",
    "x_h2s = 0.07 # mole fraction of H2S in gas\n",
    "x_co2 = 0.1 # mole fraction of CO2 in gas"
=======
    "pressure = 3826 # psia\n",
    "temp = 241 # Fahrenheit\n",
    "sg = 0.76 # specific gravity\n",
    "x_h2s = 1.2 # mole fraction of H2S in gas\n",
    "x_co2 = 1.0 # mole fraction of CO2 in gas"
>>>>>>> e2406e40881a3b1c2b6ca5664e2ef7398455e0be
   ]
  },
  {
   "cell_type": "code",
<<<<<<< HEAD
   "execution_count": 88,
=======
   "execution_count": 6,
>>>>>>> e2406e40881a3b1c2b6ca5664e2ef7398455e0be
   "id": "9d656062",
   "metadata": {},
   "outputs": [],
   "source": [
    "# calculate gas pseudoproperties \n",
    "P_pc, T_pc, P_pr, T_pr = gas_pseudoprops(temp, pressure, sg, x_h2s, x_co2)"
   ]
  },
  {
   "cell_type": "code",
<<<<<<< HEAD
   "execution_count": 89,
=======
   "execution_count": 7,
>>>>>>> e2406e40881a3b1c2b6ca5664e2ef7398455e0be
   "id": "24d0faff",
   "metadata": {},
   "outputs": [],
   "source": [
    "# calculate gas z-factor \n",
    "pseudo_rho, z_factor = gas_zfactor(T_pr, P_pr)"
   ]
  },
  {
   "cell_type": "code",
<<<<<<< HEAD
   "execution_count": 90,
=======
   "execution_count": 8,
>>>>>>> e2406e40881a3b1c2b6ca5664e2ef7398455e0be
   "id": "951d02c0",
   "metadata": {},
   "outputs": [],
   "source": [
    "# calculate gas density\n",
    "rhogas = gas_density(temp, pressure, sg, z_factor)"
   ]
  },
  {
   "cell_type": "code",
<<<<<<< HEAD
   "execution_count": 91,
=======
   "execution_count": 9,
>>>>>>> e2406e40881a3b1c2b6ca5664e2ef7398455e0be
   "id": "b84aae28",
   "metadata": {},
   "outputs": [],
   "source": [
    "# calculate gas FVF\n",
    "Bg = gas_fvf(z_factor, temp, pressure)"
   ]
  },
  {
   "cell_type": "code",
<<<<<<< HEAD
   "execution_count": 92,
=======
   "execution_count": 10,
>>>>>>> e2406e40881a3b1c2b6ca5664e2ef7398455e0be
   "id": "35a52754",
   "metadata": {},
   "outputs": [],
   "source": [
    "# calculate gas isothermal compressibility \n",
    "cgas = gas_compressibility(T_pr, P_pr, pseudo_rho, z_factor, P_pc)"
   ]
  },
  {
   "cell_type": "code",
<<<<<<< HEAD
   "execution_count": 93,
=======
   "execution_count": 11,
>>>>>>> e2406e40881a3b1c2b6ca5664e2ef7398455e0be
   "id": "626def41",
   "metadata": {},
   "outputs": [],
   "source": [
    "# calculate gas viscosity \n",
    "viscogas = gas_mu(temp, rhogas, sg)"
   ]
  },
  {
   "cell_type": "code",
<<<<<<< HEAD
   "execution_count": 94,
=======
   "execution_count": 12,
>>>>>>> e2406e40881a3b1c2b6ca5664e2ef7398455e0be
   "id": "5f3073d6",
   "metadata": {},
   "outputs": [
    {
     "name": "stdout",
     "output_type": "stream",
     "text": [
      "Your Input:\n",
<<<<<<< HEAD
      "Pressure                   : 2010 psia\n",
      "Temperature                : 75 °F\n",
      "Specific Gravity           : 0.7\n",
      "H2S Mole Fraction          : 0.07\n",
      "CO2 Mole Fraction          : 0.1 \n",
      "\n",
      "PVT Output:\n",
      "z-factor                   : 0.7760616249235159\n",
      "Density                    : 9.153346504059954 lb/ft3\n",
      "FVF                        : 0.005837872736045313 res ft3/scf\n",
      "Isothermal compressibility : 487.25288584927034 microsip\n",
=======
      "Pressure                   : 3826 psia\n",
      "Temperature                : 241 °F\n",
      "Specific Gravity           : 0.76\n",
      "H2S Mole Fraction          : 1.2\n",
      "CO2 Mole Fraction          : 1.0 \n",
      "\n",
      "PVT Output:\n",
      "z-factor                   : nan\n",
      "Density                    : nan lb/ft3\n",
      "FVF                        : nan res ft3/scf\n",
      "Isothermal compressibility : nan microsip\n",
>>>>>>> e2406e40881a3b1c2b6ca5664e2ef7398455e0be
      "Viscosity                  : nan cp\n"
     ]
    }
   ],
   "source": [
    "print('Your Input:')\n",
    "print('Pressure                   : {} psia'.format(pressure))\n",
    "print('Temperature                : {} °F'.format(temp))\n",
    "print('Specific Gravity           : {}'.format(sg))\n",
    "print('H2S Mole Fraction          : {}'.format(x_h2s))\n",
    "print('CO2 Mole Fraction          : {} \\n'.format(x_co2))\n",
    "\n",
    "\n",
    "print('PVT Output:')\n",
    "print('z-factor                   : {}'.format(z_factor))\n",
    "print('Density                    : {} lb/ft3'.format(rhogas))\n",
    "print('FVF                        : {} res ft3/scf'.format(Bg))\n",
    "print('Isothermal compressibility : {} microsip'.format(cgas * 1E+6))\n",
    "print('Viscosity                  : {} cp'.format(viscogas))"
   ]
  },
  {
   "cell_type": "code",
   "execution_count": null,
   "id": "ee4bc880",
   "metadata": {},
   "outputs": [],
   "source": []
  }
 ],
 "metadata": {
  "kernelspec": {
   "display_name": "Python 3 (ipykernel)",
   "language": "python",
   "name": "python3"
  },
  "language_info": {
   "codemirror_mode": {
    "name": "ipython",
    "version": 3
   },
   "file_extension": ".py",
   "mimetype": "text/x-python",
   "name": "python",
   "nbconvert_exporter": "python",
   "pygments_lexer": "ipython3",
   "version": "3.9.12"
  }
 },
 "nbformat": 4,
 "nbformat_minor": 5
}
