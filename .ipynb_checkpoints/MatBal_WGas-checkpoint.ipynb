{
 "cells": [
  {
   "cell_type": "code",
   "execution_count": 1,
   "id": "968ac058",
   "metadata": {},
   "outputs": [],
   "source": [
    "import pandas as pd"
   ]
  },
  {
   "cell_type": "markdown",
   "id": "2437e237",
   "metadata": {},
   "source": [
    "# Material Balance in a Wet-Gas Reservoir"
   ]
  },
  {
   "cell_type": "code",
   "execution_count": 2,
   "id": "cc8e656e",
   "metadata": {},
   "outputs": [],
   "source": [
    "#A wet-gas reservoir is discovered at an initial pressure of 4440 psi.\n",
    "#5 Bcf of gas was produced by the time the pressure declined to 3858 psi.\n",
    "#Assume volumetric depletion and ignore pore-volume contraction and connate water expansion\n",
    "#Calculate OGIP(G) and produced gas (Gp) when pressure falls to 2241 psi.\n"
   ]
  },
  {
   "cell_type": "code",
   "execution_count": 3,
   "id": "edd1e864",
   "metadata": {},
   "outputs": [],
   "source": [
    "#PVT properties for wet gas"
   ]
  },
  {
   "cell_type": "code",
   "execution_count": 4,
   "id": "5737b6f7",
   "metadata": {},
   "outputs": [
    {
     "data": {
      "text/html": [
       "<div>\n",
       "<style scoped>\n",
       "    .dataframe tbody tr th:only-of-type {\n",
       "        vertical-align: middle;\n",
       "    }\n",
       "\n",
       "    .dataframe tbody tr th {\n",
       "        vertical-align: top;\n",
       "    }\n",
       "\n",
       "    .dataframe thead th {\n",
       "        text-align: right;\n",
       "    }\n",
       "</style>\n",
       "<table border=\"1\" class=\"dataframe\">\n",
       "  <thead>\n",
       "    <tr style=\"text-align: right;\">\n",
       "      <th></th>\n",
       "      <th>Pressure, psia</th>\n",
       "      <th>Gas Density</th>\n",
       "      <th>Z-Factor</th>\n",
       "      <th>Gas FVF</th>\n",
       "    </tr>\n",
       "  </thead>\n",
       "  <tbody>\n",
       "    <tr>\n",
       "      <th>0</th>\n",
       "      <td>4440</td>\n",
       "      <td>0.429</td>\n",
       "      <td>0.818</td>\n",
       "      <td>0.00344</td>\n",
       "    </tr>\n",
       "    <tr>\n",
       "      <th>1</th>\n",
       "      <td>4415</td>\n",
       "      <td>0.249</td>\n",
       "      <td>0.890</td>\n",
       "      <td>0.00375</td>\n",
       "    </tr>\n",
       "    <tr>\n",
       "      <th>2</th>\n",
       "      <td>4295</td>\n",
       "      <td>0.243</td>\n",
       "      <td>0.882</td>\n",
       "      <td>0.00382</td>\n",
       "    </tr>\n",
       "    <tr>\n",
       "      <th>3</th>\n",
       "      <td>3858</td>\n",
       "      <td>0.222</td>\n",
       "      <td>0.860</td>\n",
       "      <td>0.00415</td>\n",
       "    </tr>\n",
       "    <tr>\n",
       "      <th>4</th>\n",
       "      <td>3453</td>\n",
       "      <td>0.200</td>\n",
       "      <td>0.846</td>\n",
       "      <td>0.00456</td>\n",
       "    </tr>\n",
       "    <tr>\n",
       "      <th>5</th>\n",
       "      <td>3048</td>\n",
       "      <td>0.175</td>\n",
       "      <td>0.841</td>\n",
       "      <td>0.00514</td>\n",
       "    </tr>\n",
       "    <tr>\n",
       "      <th>6</th>\n",
       "      <td>2241</td>\n",
       "      <td>0.126</td>\n",
       "      <td>0.848</td>\n",
       "      <td>0.00705</td>\n",
       "    </tr>\n",
       "    <tr>\n",
       "      <th>7</th>\n",
       "      <td>1433</td>\n",
       "      <td>0.076</td>\n",
       "      <td>0.883</td>\n",
       "      <td>0.00721</td>\n",
       "    </tr>\n",
       "    <tr>\n",
       "      <th>8</th>\n",
       "      <td>1044</td>\n",
       "      <td>0.055</td>\n",
       "      <td>0.907</td>\n",
       "      <td>0.00750</td>\n",
       "    </tr>\n",
       "  </tbody>\n",
       "</table>\n",
       "</div>"
      ],
      "text/plain": [
       "   Pressure, psia  Gas Density  Z-Factor  Gas FVF\n",
       "0            4440        0.429     0.818  0.00344\n",
       "1            4415        0.249     0.890  0.00375\n",
       "2            4295        0.243     0.882  0.00382\n",
       "3            3858        0.222     0.860  0.00415\n",
       "4            3453        0.200     0.846  0.00456\n",
       "5            3048        0.175     0.841  0.00514\n",
       "6            2241        0.126     0.848  0.00705\n",
       "7            1433        0.076     0.883  0.00721\n",
       "8            1044        0.055     0.907  0.00750"
      ]
     },
     "execution_count": 4,
     "metadata": {},
     "output_type": "execute_result"
    }
   ],
   "source": [
    "pvt_wet_gas = {'Pressure, psia': [4440, 4415, 4295, 3858, 3453, 3048,\n",
    "                         2241, 1433, 1044], \n",
    "                'Gas Density': [0.429, 0.249, 0.243, 0.222, 0.200, 0.175, 0.126,\n",
    "                         0.076, 0.055],\n",
    "                'Z-Factor': [0.818, 0.890, 0.882, 0.860, 0.846, 0.841, 0.848,\n",
    "                         0.883, 0.907],\n",
    "                'Gas FVF': [0.00344, 0.00375, 0.00382, 0.00415, 0.00456, 0.00514, 0.00705,\n",
    "                         0.00721, 0.00750]}\n",
    "df_pvt_gas = pd.DataFrame(data=pvt_wet_gas)\n",
    "df_pvt_gas"
   ]
  },
  {
   "cell_type": "code",
   "execution_count": 5,
   "id": "10d04b88",
   "metadata": {},
   "outputs": [],
   "source": [
    "# Calculate OGIP using MBE for wet gas"
   ]
  },
  {
   "cell_type": "code",
   "execution_count": 9,
   "id": "29ff16b7",
   "metadata": {},
   "outputs": [
    {
     "name": "stdout",
     "output_type": "stream",
     "text": [
      "OGIP = 29.23 Bcf\n"
     ]
    }
   ],
   "source": [
    "def Original_Gas_In_Place (cum_gas, gas_FVF, gas_FVF_init):\n",
    "    OGIP = (cum_gas * gas_FVF) / (gas_FVF - gas_FVF_init) \n",
    "    return OGIP\n",
    "print(\"OGIP =\", round(Original_Gas_In_Place (5, 0.00415, 0.00344),2), \"Bcf\")"
   ]
  },
  {
   "cell_type": "code",
   "execution_count": null,
   "id": "e2ed4eb3",
   "metadata": {},
   "outputs": [],
   "source": [
    "# Calculate produced gas (GP) using MBE for wet gas"
   ]
  },
  {
   "cell_type": "code",
   "execution_count": 16,
   "id": "d70e1358",
   "metadata": {},
   "outputs": [
    {
     "name": "stdout",
     "output_type": "stream",
     "text": [
      "Gp = 14.97 Bcf\n"
     ]
    }
   ],
   "source": [
    "def Produced_Gas (OGIP, gas_FVF, gas_FVF_init):\n",
    "    Gp = OGIP * (gas_FVF - gas_FVF_init) / gas_FVF  \n",
    "    return Gp\n",
    "print(\"Gp =\", round(Produced_Gas (29.23, 0.00705, 0.00344),2), \"Bcf\")"
   ]
  },
  {
   "cell_type": "code",
   "execution_count": 18,
   "id": "73dc3394",
   "metadata": {},
   "outputs": [
    {
     "name": "stdout",
     "output_type": "stream",
     "text": [
      "RF = 51.21 %\n"
     ]
    }
   ],
   "source": [
    "Recovery_Factor = (Produced_Gas (29.23, 0.00705, 0.00344)/Original_Gas_In_Place (5, 0.00415, 0.00344)) * 100\n",
    "print(\"RF =\", round(Recovery_Factor, 2), \"%\")"
   ]
  },
  {
   "cell_type": "code",
   "execution_count": null,
   "id": "cc3000d0",
   "metadata": {},
   "outputs": [],
   "source": []
  }
 ],
 "metadata": {
  "kernelspec": {
   "display_name": "Python 3 (ipykernel)",
   "language": "python",
   "name": "python3"
  },
  "language_info": {
   "codemirror_mode": {
    "name": "ipython",
    "version": 3
   },
   "file_extension": ".py",
   "mimetype": "text/x-python",
   "name": "python",
   "nbconvert_exporter": "python",
   "pygments_lexer": "ipython3",
   "version": "3.9.7"
  }
 },
 "nbformat": 4,
 "nbformat_minor": 5
}
