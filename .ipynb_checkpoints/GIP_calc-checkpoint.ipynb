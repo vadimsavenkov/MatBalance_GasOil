{
 "cells": [
  {
   "cell_type": "code",
   "execution_count": 9,
   "id": "968ac058",
   "metadata": {},
   "outputs": [],
   "source": [
    "import pandas as pd"
   ]
  },
  {
   "cell_type": "markdown",
   "id": "2437e237",
   "metadata": {},
   "source": [
    "# Material Balance in a Wet-Gas Reservoir"
   ]
  },
  {
   "cell_type": "code",
   "execution_count": 10,
   "id": "cc8e656e",
   "metadata": {},
   "outputs": [],
   "source": [
    "#You are given the following information about a newly discovered sweet, dry gas pool in a Devonian reef:\n",
    "\n",
    "#Gross rock volume = 93,064 acre-feet (area = 6,400 acres)\n",
    "#Weighted average pool porosity, φ = 23%\n",
    "#Weighted average water saturation, Sw = 20%\n",
    "#Average pool depth = 6,000 feet\n",
    "#Initial reservoir pressure, pi = 2,600 psia\n",
    "#No gas analysis, but gas density,  γg = 0.65\n",
    "#Compressibility factors are calculated using the Standing and Katz correlation (zi = 0.83 and za = 0.97 )\n",
    "#Reservoir temperature is based on temperature gradients T = 150°F(610°R)\n",
    "\n",
    "#Calculate the original raw gas-in-place and original Recoverable Raw Gas-In-Place."
   ]
  },
  {
   "cell_type": "code",
   "execution_count": 11,
   "id": "edd1e864",
   "metadata": {},
   "outputs": [],
   "source": [
    "# Step 1: Calculate Initial Gas Formation Volume Factor \n",
    "#Bg =  psc x T x z / Tsc x p, ft3/scf \n",
    "#1/Bg =  520/(14.65 x T) x  p / z  "
   ]
  },
  {
   "cell_type": "code",
   "execution_count": 12,
   "id": "026f6391",
   "metadata": {},
   "outputs": [
    {
     "name": "stdout",
     "output_type": "stream",
     "text": [
      "0.0055 ft3/scf\n"
     ]
    }
   ],
   "source": [
    "def Gas_FVF_Initial (temp, pres_init, compress_fact_init):\n",
    "    GFVFi = 1/((520/(14.65 * temp) * pres_init) / compress_fact_init)\n",
    "    return GFVFi\n",
    "print(round(Gas_FVF_Initial (610, 2600, 0.83),4), \"ft3/scf\")"
   ]
  },
  {
   "cell_type": "code",
   "execution_count": 13,
   "id": "22b327c7",
   "metadata": {},
   "outputs": [
    {
     "name": "stdout",
     "output_type": "stream",
     "text": [
      "182.28\n"
     ]
    }
   ],
   "source": [
    "Bgi = 1/Gas_FVF_Initial(610, 2600, 0.83)\n",
    "print(round(Bgi,2))"
   ]
  },
  {
   "cell_type": "code",
   "execution_count": 14,
   "id": "3a8c3eae",
   "metadata": {},
   "outputs": [],
   "source": [
    "# Step 2: Calculate Initial Gas In Place  \n",
    "#GIIP (raw) = 43,560 x A x h x Ø x (1 –Swi) / Bgi \n",
    "\n",
    "#A - drainage area, acres (1 acre = 43,560 square feet) \n",
    "#h - net pay thickness (feet) [!note: A × h = GRV, Gross Rock (or Bulk) Volume, acre-feet] \n",
    "#Ø - porosity, (fraction)\n",
    "#Swi - connate water saturation at initial conditions (fraction) \n",
    "#Bgi - natural gas formation volume factor (FVF) at initial conditions(ft3/scf)\n",
    "#[!note: use 43.56 for units of Mscf or 0.04356 for units of MMscf per acre]\n"
   ]
  },
  {
   "cell_type": "code",
   "execution_count": 15,
   "id": "72e0befe",
   "metadata": {},
   "outputs": [
    {
     "name": "stdout",
     "output_type": "stream",
     "text": [
      "135962.31 MMcf\n"
     ]
    }
   ],
   "source": [
    "def Initial_Gas_In_Place (GRV, porosity, Sw_init):\n",
    "    GIIP = 0.04356 * GRV * porosity * (1 - Sw_init) * Bgi  \n",
    "    return GIIP\n",
    "print(round(Initial_Gas_In_Place (93064, 0.23, 0.2),2), \"MMcf\")"
   ]
  },
  {
   "cell_type": "code",
   "execution_count": 16,
   "id": "0d3b9ebb",
   "metadata": {},
   "outputs": [],
   "source": [
    "# Step 3: Calculate Abandonment Gas Formation Volume Factor \n",
    "#Bg =  psc x T x z / Tsc x p, ft3/scf \n",
    "#1/Bg =  520/(14.65 x T) x  p / z  "
   ]
  },
  {
   "cell_type": "code",
   "execution_count": 17,
   "id": "10d04b88",
   "metadata": {},
   "outputs": [
    {
     "name": "stdout",
     "output_type": "stream",
     "text": [
      "462.0 Psia\n"
     ]
    }
   ],
   "source": [
    "def abandonment_pressure(average_depth):\n",
    "    Pa = 66 + 66/1000 * average_depth\n",
    "    return Pa\n",
    "print(round(abandonment_pressure(6000),2), \"Psia\")"
   ]
  },
  {
   "cell_type": "code",
   "execution_count": 18,
   "id": "5da21cbb",
   "metadata": {},
   "outputs": [
    {
     "name": "stdout",
     "output_type": "stream",
     "text": [
      "0.0065 ft3/scf\n"
     ]
    }
   ],
   "source": [
    "def Gas_FVF_Aband (temp, pres_init, compress_fact_init, pres_aband, compress_fact_aband):\n",
    "    GFVFa = 1/((520/(14.65 * temp)) * ((pres_init / compress_fact_init) - (pres_aband / compress_fact_aband)))\n",
    "    return GFVFa\n",
    "print(round(Gas_FVF_Aband (610, 2600, 0.83, 462, 0.97),4), \"ft3/scf\")"
   ]
  },
  {
   "cell_type": "code",
   "execution_count": 19,
   "id": "eb214448",
   "metadata": {},
   "outputs": [
    {
     "name": "stdout",
     "output_type": "stream",
     "text": [
      "154.56\n"
     ]
    }
   ],
   "source": [
    "Bga = 1/Gas_FVF_Aband(610, 2600, 0.83, 462, 0.97)\n",
    "print(round(Bga,2))"
   ]
  },
  {
   "cell_type": "code",
   "execution_count": 20,
   "id": "191044c6",
   "metadata": {},
   "outputs": [
    {
     "name": "stdout",
     "output_type": "stream",
     "text": [
      "115289.79 MMcf\n"
     ]
    }
   ],
   "source": [
    "def Recoverable_Gas_In_Place (GRV, porosity, Sw_init):\n",
    "    GRIP = 0.04356 * GRV * porosity * (1 - Sw_init) * Bga  \n",
    "    return GRIP\n",
    "print(round(Recoverable_Gas_In_Place (93064, 0.23, 0.2),2), \"MMcf\")"
   ]
  },
  {
   "cell_type": "code",
   "execution_count": 21,
   "id": "9538cc41",
   "metadata": {},
   "outputs": [
    {
     "name": "stdout",
     "output_type": "stream",
     "text": [
      "RF = 84.8 %\n"
     ]
    }
   ],
   "source": [
    "Recovery_Factor = (Recoverable_Gas_In_Place (93064, 0.23, 0.2)/Initial_Gas_In_Place (93064, 0.23, 0.2)) * 100\n",
    "print(\"RF =\", round(Recovery_Factor, 2), \"%\")"
   ]
  },
  {
   "cell_type": "code",
   "execution_count": null,
   "id": "cc3000d0",
   "metadata": {},
   "outputs": [],
   "source": [
    "#The following recovery factors have been empirically estimated. The reserve evaluator is free to select the recovery factor, as applicable: \n",
    "#Sweet gas RF 80 - 90 %\n",
    "#Sour gas RF 65 - 85 %\n",
    "#Sw > 40% RF 50 - 70 %"
   ]
  }
 ],
 "metadata": {
  "kernelspec": {
   "display_name": "Python 3 (ipykernel)",
   "language": "python",
   "name": "python3"
  },
  "language_info": {
   "codemirror_mode": {
    "name": "ipython",
    "version": 3
   },
   "file_extension": ".py",
   "mimetype": "text/x-python",
   "name": "python",
   "nbconvert_exporter": "python",
   "pygments_lexer": "ipython3",
   "version": "3.9.7"
  }
 },
 "nbformat": 4,
 "nbformat_minor": 5
}
