{
 "cells": [
  {
   "cell_type": "code",
   "execution_count": 1,
   "id": "968ac058",
   "metadata": {},
   "outputs": [],
   "source": [
    "import pandas as pd"
   ]
  },
  {
   "cell_type": "markdown",
   "id": "2437e237",
   "metadata": {},
   "source": [
    "# Material Balance in a Wet-Gas Reservoir"
   ]
  },
  {
   "cell_type": "code",
   "execution_count": 2,
   "id": "cc8e656e",
   "metadata": {},
   "outputs": [],
   "source": [
    "#Newly discovered gas reservoir has the following data available:\n",
    "#GWC = 9700 ft\n",
    "#Centroid depth = 9537 ft\n",
    "#Net bulk volume (V) = 17.76 Bcf\n",
    "#φ = 0.19\n",
    "#Swc = 0 20\n",
    "#γg = 0.85"
   ]
  },
  {
   "cell_type": "code",
   "execution_count": null,
   "id": "3b437861",
   "metadata": {},
   "outputs": [],
   "source": [
    "#A gas sample was collected during a brief production test \n",
    "#The reservoir pressure was not recorded because of tool failure. \n",
    "#It is known from the analogous field nearby that the water\n",
    "#pressure regime is defined as pw = 0.441D + 31 psia\n",
    "#and that the temperature gradient is 1.258°F/100 ft at surface temperature 80° F.\n",
    "#Estimate Pressure Gradient and the GIIP."
   ]
  },
  {
   "cell_type": "code",
   "execution_count": 6,
   "id": "1095bc6d",
   "metadata": {},
   "outputs": [
    {
     "name": "stdout",
     "output_type": "stream",
     "text": [
      "Pwat = 4308.7 psia\n"
     ]
    }
   ],
   "source": [
    "# Calculate the water pressure at GWC\n",
    "def press_wat (depth_gwc):\n",
    "    Pgwc = 0.441 * depth_gwc + 31 \n",
    "    return Pgwc\n",
    "print('Pwat =', round(press_wat(9700),3), \"psia\")"
   ]
  },
  {
   "cell_type": "code",
   "execution_count": 8,
   "id": "0ef46da1",
   "metadata": {},
   "outputs": [
    {
     "name": "stdout",
     "output_type": "stream",
     "text": [
      "Tabs = 662.0 deg.rank\n"
     ]
    }
   ],
   "source": [
    "# Calculate the absolute temperature at GWC\n",
    "def temperature (depth_gwc, temp_rank):\n",
    "    Tabs = (1.258 * depth_gwc/100) + 80 + temp_rank \n",
    "    return Tabs\n",
    "print('Tabs =', round(temperature(9700, 460),1), \"deg.rank\")\n",
    "#Based on γg = 0.85 the isothermal Z−factor plot Zgwc = 0.888"
   ]
  },
  {
   "cell_type": "code",
   "execution_count": null,
   "id": "fc795f20",
   "metadata": {},
   "outputs": [],
   "source": [
    "#The determination of the Z−factor as a function of pressure \n",
    "#and temperature facilitates the use of the simple equation: pV = ZnRT\n",
    "#For the field units at standard conditions: E = 35.37 * P/ZT"
   ]
  },
  {
   "cell_type": "code",
   "execution_count": 12,
   "id": "4cdab30e",
   "metadata": {},
   "outputs": [
    {
     "name": "stdout",
     "output_type": "stream",
     "text": [
      "Egwc = 259.24\n"
     ]
    }
   ],
   "source": [
    "def expansion (Pgwc, Tgwc, Zgwc):\n",
    "    Egwc = (35.37 * Pgwc) /  (Tgwc * Zgwc) \n",
    "    return Egwc\n",
    "print('Egwc =', round(expansion(4308.7, 662.0, 0.888),2))"
   ]
  },
  {
   "cell_type": "code",
   "execution_count": 14,
   "id": "f43b3378",
   "metadata": {},
   "outputs": [
    {
     "name": "stdout",
     "output_type": "stream",
     "text": [
      "Pgrad = 16.81 lb/cu.ft\n"
     ]
    }
   ],
   "source": [
    "#ρsc = 0.0763γg (lbs / cu.ft) - the gas density at standard conditions\n",
    "def press_grad (gas_den, exp_fact):\n",
    "    Pgrad = 0.0763 * gas_den  * exp_fact \n",
    "    return Pgrad\n",
    "print('Pgrad =', round(press_grad(0.85, 259.24),2), \"lb/cu.ft\")"
   ]
  },
  {
   "cell_type": "code",
   "execution_count": 18,
   "id": "e37fe1a9",
   "metadata": {},
   "outputs": [
    {
     "name": "stdout",
     "output_type": "stream",
     "text": [
      "Pgrad = 0.117 psi/ft\n"
     ]
    }
   ],
   "source": [
    "Pgrad = 16.81/144\n",
    "print('Pgrad =', round(Pgrad,3), \"psi/ft\")"
   ]
  },
  {
   "cell_type": "code",
   "execution_count": 19,
   "id": "dd4ac596",
   "metadata": {},
   "outputs": [
    {
     "name": "stdout",
     "output_type": "stream",
     "text": [
      "GIIP = 699.82 Bcf\n"
     ]
    }
   ],
   "source": [
    "#GIIP = GRV * φ * (1−Swc) * Egwc\n",
    "def Gas_Initial_In_Place (net_vol, poro, wat_sat, gas_exp):\n",
    "    GIIP = net_vol * poro * (1 - wat_sat) * gas_exp \n",
    "    return GIIP\n",
    "print(\"GIIP =\", round(Gas_Initial_In_Place (17.76, 0.19, 0.2, 259.24),2), \"Bcf\")\n"
   ]
  },
  {
   "cell_type": "code",
   "execution_count": null,
   "id": "c8c738fa",
   "metadata": {},
   "outputs": [],
   "source": [
    "#The project produced around 50O Bcf including 50 Bcf at ramp-up and 450 Bcf at the maintained plateau with the average rate of 100 MMscf/day\n",
    "#Calculate the time this rate was maintained?\n",
    "\n"
   ]
  },
  {
   "cell_type": "code",
   "execution_count": null,
   "id": "73dc3394",
   "metadata": {},
   "outputs": [],
   "source": [
    "Recovery_Factor = (Produced_Gas (29.23, 0.00705, 0.00344)/Original_Gas_In_Place (5, 0.00415, 0.00344)) * 100\n",
    "print(\"RF =\", round(Recovery_Factor, 2), \"%\")"
   ]
  },
  {
   "cell_type": "code",
   "execution_count": null,
   "id": "cc3000d0",
   "metadata": {},
   "outputs": [],
   "source": []
  }
 ],
 "metadata": {
  "kernelspec": {
   "display_name": "Python 3 (ipykernel)",
   "language": "python",
   "name": "python3"
  },
  "language_info": {
   "codemirror_mode": {
    "name": "ipython",
    "version": 3
   },
   "file_extension": ".py",
   "mimetype": "text/x-python",
   "name": "python",
   "nbconvert_exporter": "python",
   "pygments_lexer": "ipython3",
   "version": "3.9.7"
  }
 },
 "nbformat": 4,
 "nbformat_minor": 5
}
