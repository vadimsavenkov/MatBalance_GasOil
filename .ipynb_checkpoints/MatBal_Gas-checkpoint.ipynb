{
 "cells": [
  {
   "cell_type": "code",
   "execution_count": 1,
   "id": "968ac058",
   "metadata": {},
   "outputs": [],
   "source": [
    "import pandas as pd"
   ]
  },
  {
   "cell_type": "markdown",
   "id": "2437e237",
   "metadata": {},
   "source": [
    "# Material Balance in a Wet-Gas Reservoir"
   ]
  },
  {
   "cell_type": "code",
   "execution_count": 2,
   "id": "cc8e656e",
   "metadata": {},
   "outputs": [],
   "source": [
    "#Newly discovered gas reservoir has the following data available:\n",
    "#GWC = 9700 ft\n",
    "#Centroid depth = 9537 ft\n",
    "#Net bulk volume (V) = 1.776 × 1010 cu.ft\n",
    "#φ = 0.19\n",
    "#Swc = 0 20\n",
    "#γg = 0.85"
   ]
  },
  {
   "cell_type": "code",
   "execution_count": null,
   "id": "3b437861",
   "metadata": {},
   "outputs": [],
   "source": [
    "#A gas sample was collected during a brief production test \n",
    "#The reservoir pressure was not recorded because of tool failure. \n",
    "#It is known from the analogous field nearby that the water\n",
    "#pressure regime is defined as pw = 0.441D + 31 psia\n",
    "#and that the temperature gradient is 1.258°F/100 ft at surface temperature 80° F.\n",
    "#Calculate the volume of the GIIP."
   ]
  },
  {
   "cell_type": "code",
   "execution_count": null,
   "id": "1095bc6d",
   "metadata": {},
   "outputs": [],
   "source": [
    "# Calculate the water pressure at GWC\n"
   ]
  },
  {
   "cell_type": "code",
   "execution_count": null,
   "id": "fc795f20",
   "metadata": {},
   "outputs": [],
   "source": []
  },
  {
   "cell_type": "code",
   "execution_count": null,
   "id": "edd1e864",
   "metadata": {},
   "outputs": [],
   "source": [
    "#PVT properties for wet gas"
   ]
  },
  {
   "cell_type": "code",
   "execution_count": null,
   "id": "5737b6f7",
   "metadata": {},
   "outputs": [],
   "source": [
    "pvt_wet_gas = {'Pressure, psia': [4440, 4415, 4295, 3858, 3453, 3048,\n",
    "                         2241, 1433, 1044], \n",
    "                'Gas Density': [0.429, 0.249, 0.243, 0.222, 0.200, 0.175, 0.126,\n",
    "                         0.076, 0.055],\n",
    "                'Z-Factor': [0.818, 0.890, 0.882, 0.860, 0.846, 0.841, 0.848,\n",
    "                         0.883, 0.907],\n",
    "                'Gas FVF': [0.00344, 0.00375, 0.00382, 0.00415, 0.00456, 0.00514, 0.00705,\n",
    "                         0.00721, 0.00750]}\n",
    "df_pvt_gas = pd.DataFrame(data=pvt_wet_gas)\n",
    "df_pvt_gas"
   ]
  },
  {
   "cell_type": "code",
   "execution_count": null,
   "id": "10d04b88",
   "metadata": {},
   "outputs": [],
   "source": [
    "# Calculate OGIP using MBE for wet gas"
   ]
  },
  {
   "cell_type": "code",
   "execution_count": null,
   "id": "29ff16b7",
   "metadata": {},
   "outputs": [],
   "source": [
    "def Original_Gas_In_Place (cum_gas, gas_FVF, gas_FVF_init):\n",
    "    OGIP = (cum_gas * gas_FVF) / (gas_FVF - gas_FVF_init) \n",
    "    return OGIP\n",
    "print(\"OGIP =\", round(Original_Gas_In_Place (5, 0.00415, 0.00344),2), \"Bcf\")"
   ]
  },
  {
   "cell_type": "code",
   "execution_count": null,
   "id": "22fb6114",
   "metadata": {},
   "outputs": [],
   "source": [
    "# Calculate produced gas (GP) using MBE for wet gas"
   ]
  },
  {
   "cell_type": "code",
   "execution_count": null,
   "id": "c1d24f88",
   "metadata": {},
   "outputs": [],
   "source": [
    "def Produced_Gas (OGIP, gas_FVF, gas_FVF_init):\n",
    "    Gp = OGIP * (gas_FVF - gas_FVF_init) / gas_FVF  \n",
    "    return Gp\n",
    "print(\"Gp =\", round(Produced_Gas (29.23, 0.00705, 0.00344),2), \"Bcf\")"
   ]
  },
  {
   "cell_type": "code",
   "execution_count": null,
   "id": "73dc3394",
   "metadata": {},
   "outputs": [],
   "source": [
    "Recovery_Factor = (Produced_Gas (29.23, 0.00705, 0.00344)/Original_Gas_In_Place (5, 0.00415, 0.00344)) * 100\n",
    "print(\"RF =\", round(Recovery_Factor, 2), \"%\")"
   ]
  },
  {
   "cell_type": "code",
   "execution_count": null,
   "id": "cc3000d0",
   "metadata": {},
   "outputs": [],
   "source": []
  }
 ],
 "metadata": {
  "kernelspec": {
   "display_name": "Python 3 (ipykernel)",
   "language": "python",
   "name": "python3"
  },
  "language_info": {
   "codemirror_mode": {
    "name": "ipython",
    "version": 3
   },
   "file_extension": ".py",
   "mimetype": "text/x-python",
   "name": "python",
   "nbconvert_exporter": "python",
   "pygments_lexer": "ipython3",
   "version": "3.9.7"
  }
 },
 "nbformat": 4,
 "nbformat_minor": 5
}
