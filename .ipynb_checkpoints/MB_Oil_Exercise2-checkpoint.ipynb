{
 "cells": [
  {
   "cell_type": "code",
   "execution_count": null,
   "id": "968ac058",
   "metadata": {},
   "outputs": [],
   "source": [
    "import pandas as pd"
   ]
  },
  {
   "cell_type": "markdown",
   "id": "2437e237",
   "metadata": {},
   "source": [
    "# Material Balance in a Wet-Gas Reservoir"
   ]
  },
  {
   "cell_type": "code",
   "execution_count": null,
   "id": "cc8e656e",
   "metadata": {},
   "outputs": [],
   "source": [
    "#A black-oil reservoir is depleted from an initial pressure of 2000 psi to 1000 psi.\n",
    "#The reservoir produced 40.5 MMSTB of oil and 58 Bscf of gas.  \n",
    "#The oil HCPV = 307.57 MMBBL is provided. The fluid's bubble-point pressure is 1680 psi. \n",
    "\n",
    "#Using the black oil PVT table calculate Initial OOIP and OGIP values. What is the current oil recovery factor? \n"
   ]
  },
  {
   "cell_type": "code",
   "execution_count": null,
   "id": "813dea00",
   "metadata": {},
   "outputs": [],
   "source": [
    "pvt_black_oil = {'Pressure, psi': [2000, 1800, 1680, 1642, 1600, 1401, 1201,\n",
    "                         1000, 800, 600, 400, 200], \n",
    "                'Bo, bbl/stb': [1.47, 1.47, 1.48, 1.46, 1.45, 1.41, 1.36,\n",
    "                         1.32, 1.28, 1.24, 1.19, 1.14],\n",
    "                'Rs, scf/stb': [838.5, 838.5, 838.5, 816.1, 798.4, 713.4, 621.0,\n",
    "                         548.0, 464.0, 383.9, 297.4, 190.9]}\n",
    "df_pvt_black_oil = pd.DataFrame(data=pvt_black_oil)\n",
    "df_pvt_black_oil"
   ]
  },
  {
   "cell_type": "code",
   "execution_count": null,
   "id": "96a2a1a7",
   "metadata": {},
   "outputs": [],
   "source": [
    "# Calculate Original Oil In Place"
   ]
  },
  {
   "cell_type": "code",
   "execution_count": null,
   "id": "82ae4308",
   "metadata": {},
   "outputs": [],
   "source": [
    "def Original_Oil_In_Place (HCPV, oil_FVF):\n",
    "    OOIP = HCPV / oil_FVF \n",
    "    return OOIP\n",
    "print(\"OOIP =\", round(Original_Oil_In_Place (307.57, 1.467),2), \"MMSTB\")"
   ]
  },
  {
   "cell_type": "code",
   "execution_count": null,
   "id": "061f567f",
   "metadata": {},
   "outputs": [],
   "source": [
    "# Calculate Original Gas In Place"
   ]
  },
  {
   "cell_type": "code",
   "execution_count": null,
   "id": "3142ccc2",
   "metadata": {},
   "outputs": [],
   "source": [
    "def Original_Gas_In_Place (OOIP, GOR_init):\n",
    "    OGIP = OOIP * GOR_init \n",
    "    return OGIP\n",
    "print(\"OGIP =\", round(Original_Gas_In_Place (209.66, 838.5),2), \"MMCF\")"
   ]
  },
  {
   "cell_type": "code",
   "execution_count": null,
   "id": "605ac6e3",
   "metadata": {},
   "outputs": [],
   "source": [
    "def Oil_Recovery_Factor (oil_cum, OOIP):\n",
    "    ORF = oil_cum / OOIP * 100 \n",
    "    return ORF\n",
    "print(\"Oil RF =\", round(Oil_Recovery_Factor(40.5, 209.66),2), \"%\")"
   ]
  },
  {
   "cell_type": "code",
   "execution_count": null,
   "id": "cc3000d0",
   "metadata": {},
   "outputs": [],
   "source": []
  }
 ],
 "metadata": {
  "kernelspec": {
   "display_name": "Python 3 (ipykernel)",
   "language": "python",
   "name": "python3"
  },
  "language_info": {
   "codemirror_mode": {
    "name": "ipython",
    "version": 3
   },
   "file_extension": ".py",
   "mimetype": "text/x-python",
   "name": "python",
   "nbconvert_exporter": "python",
   "pygments_lexer": "ipython3",
   "version": "3.9.7"
  }
 },
 "nbformat": 4,
 "nbformat_minor": 5
}
